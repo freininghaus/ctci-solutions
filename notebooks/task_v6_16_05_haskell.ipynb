{
 "cells": [
  {
   "cell_type": "markdown",
   "metadata": {},
   "source": [
    "# Factorial zeros"
   ]
  },
  {
   "cell_type": "markdown",
   "metadata": {},
   "source": [
    "## Optimal solution"
   ]
  },
  {
   "cell_type": "markdown",
   "metadata": {},
   "source": [
    "The trick here is to consider the contributions in terms of `5`-factors from all numbers that contribute once, then twice, then thrice and so on. There will be always enough `2`-factors, so we don't have to care about those."
   ]
  },
  {
   "cell_type": "code",
   "execution_count": 1,
   "metadata": {
    "collapsed": false
   },
   "outputs": [],
   "source": [
    "countZeros :: Int -> Int\n",
    "countZeros n\n",
    "    | n < 5 = 0\n",
    "    | otherwise = n `div` 5 + countZeros (n `div` 5)"
   ]
  },
  {
   "cell_type": "markdown",
   "metadata": {},
   "source": [
    "One can try to inject an error in this function, e.g.\n",
    "\n",
    "```haskell\n",
    "| n == 74 = 0\n",
    "```\n",
    "\n",
    "Amazingly, it appears that QuickCheck is able to find it!"
   ]
  },
  {
   "cell_type": "markdown",
   "metadata": {},
   "source": [
    "## Brute force solution"
   ]
  },
  {
   "cell_type": "code",
   "execution_count": 2,
   "metadata": {
    "collapsed": false
   },
   "outputs": [],
   "source": [
    "countZeros' :: Int -> Int\n",
    "countZeros' n =\n",
    "    let n' = toInteger n in\n",
    "        length $ takeWhile (== '0') $ reverse $ show $ product [1..n']"
   ]
  },
  {
   "cell_type": "markdown",
   "metadata": {},
   "source": [
    "## Testing using QuickCheck"
   ]
  },
  {
   "cell_type": "markdown",
   "metadata": {},
   "source": [
    "Now, let's test our solution:"
   ]
  },
  {
   "cell_type": "code",
   "execution_count": 3,
   "metadata": {
    "collapsed": true
   },
   "outputs": [],
   "source": [
    "import Test.QuickCheck"
   ]
  },
  {
   "cell_type": "code",
   "execution_count": 4,
   "metadata": {
    "collapsed": false
   },
   "outputs": [],
   "source": [
    "testCountZeros :: Int -> Bool\n",
    "testCountZeros n = countZeros n == countZeros' n"
   ]
  },
  {
   "cell_type": "code",
   "execution_count": 5,
   "metadata": {
    "collapsed": false
   },
   "outputs": [
    {
     "data": {
      "text/plain": [
       "+++ OK, passed 100 tests."
      ]
     },
     "metadata": {},
     "output_type": "display_data"
    }
   ],
   "source": [
    "quickCheck testCountZeros"
   ]
  },
  {
   "cell_type": "markdown",
   "metadata": {},
   "source": [
    "Note that we have to convert `n` to `Integer` (bignum) in the brute-force version (`countZeros'`). This is because the type of `product` is defined as follows:\n",
    "\n",
    "```haskell\n",
    "product :: Num a => [a] -> a\n",
    "```\n",
    "\n",
    "Consequently, if you call `product` on an `Int`, it will operate with `Int`s (and suffer from possible overflows), but if you call it on an `Integer`, it will operate with `Integer`s, which can hold arbitrary large integer numbers. Thus, if one fails to use the bignums to compute the factorial using `product`, QuickCheck finds a problematic test case in no time:\n",
    "\n",
    "```\n",
    "*** Failed! Falsifiable (after 25 tests): \n",
    "21\n",
    "```\n",
    "\n",
    "In order to fix the problem, one either has to switch to `Integer` everywhere and then use `fromIntegral` on the result of `length`, which for obvious reasons is defined as `length :: [a] -> Int`, or else (my preferred solution) keep using `Int` everywhere, but switch to bignums for the `product`."
   ]
  },
  {
   "cell_type": "code",
   "execution_count": 6,
   "metadata": {
    "collapsed": false
   },
   "outputs": [
    {
     "data": {
      "text/plain": [
       "-4249290049419214848"
      ]
     },
     "metadata": {},
     "output_type": "display_data"
    },
    {
     "data": {
      "text/plain": [
       "51090942171709440000"
      ]
     },
     "metadata": {},
     "output_type": "display_data"
    }
   ],
   "source": [
    "product [1..(21 :: Int)]\n",
    "product [1..(21 :: Integer)]"
   ]
  }
 ],
 "metadata": {
  "kernelspec": {
   "display_name": "Haskell",
   "language": "haskell",
   "name": "haskell"
  },
  "language_info": {
   "codemirror_mode": "ihaskell",
   "file_extension": ".hs",
   "name": "haskell",
   "version": "7.10.2"
  }
 },
 "nbformat": 4,
 "nbformat_minor": 0
}

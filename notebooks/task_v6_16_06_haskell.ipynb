{
 "cells": [
  {
   "cell_type": "code",
   "execution_count": 1,
   "metadata": {
    "collapsed": true
   },
   "outputs": [],
   "source": [
    "import Data.List"
   ]
  },
  {
   "cell_type": "code",
   "execution_count": 2,
   "metadata": {
    "collapsed": false
   },
   "outputs": [],
   "source": [
    "considerPairs :: Ord a => [a] -> [a] -> [(a, a)]\n",
    "\n",
    "considerPairs _ [] = []\n",
    "considerPairs [] _ = []\n",
    "considerPairs (x:xs) (y:ys) = (x, y) : if x < y then considerPairs xs (y:ys)\n",
    "                                                else considerPairs (x:xs) ys\n",
    "                      \n",
    "candidatePairs xs ys = considerPairs (sort xs) (sort ys)"
   ]
  },
  {
   "cell_type": "code",
   "execution_count": 3,
   "metadata": {
    "collapsed": false
   },
   "outputs": [],
   "source": [
    "smallestDifference :: (Num a, Ord a) => [a] -> [a] -> (a, (a, a))\n",
    "smallestDifference xs ys =\n",
    "    minimum $ map (\\pair -> (abs $ uncurry (-) pair, pair)) (candidatePairs xs ys)"
   ]
  },
  {
   "cell_type": "code",
   "execution_count": 4,
   "metadata": {
    "collapsed": false
   },
   "outputs": [
    {
     "data": {
      "text/plain": [
       "(3,(11,8))"
      ]
     },
     "metadata": {},
     "output_type": "display_data"
    }
   ],
   "source": [
    "smallestDifference [1, 3, 15, 11, 2] [23, 127, 235, 19, 8]"
   ]
  },
  {
   "cell_type": "markdown",
   "metadata": {},
   "source": [
    "Or else, if we want to restrict possible inputs to natural numbers..."
   ]
  },
  {
   "cell_type": "code",
   "execution_count": 5,
   "metadata": {
    "collapsed": true
   },
   "outputs": [],
   "source": [
    "import Numeric.Natural"
   ]
  },
  {
   "cell_type": "code",
   "execution_count": 6,
   "metadata": {
    "collapsed": false
   },
   "outputs": [],
   "source": [
    "smallestDifference' :: [Natural] -> [Natural] -> (Natural, (Natural, Natural))\n",
    "smallestDifference' xs ys =\n",
    "    minimum $ map (\\pair -> (distanceMetric pair, pair)) (candidatePairs xs ys)\n",
    "    where distanceMetric (x, y) = if x > y then x - y else distanceMetric (y, x)"
   ]
  },
  {
   "cell_type": "markdown",
   "metadata": {},
   "source": [
    "Note that we define our own `distanceMetric` above instead of using `abs (x - y)`, because `x - y` may produce a non-natural number (and thus throw an exception) unless it is known that `x >= y`."
   ]
  },
  {
   "cell_type": "code",
   "execution_count": 7,
   "metadata": {
    "collapsed": false
   },
   "outputs": [
    {
     "data": {
      "text/plain": [
       "(3,(11,8))"
      ]
     },
     "metadata": {},
     "output_type": "display_data"
    }
   ],
   "source": [
    "smallestDifference' [1, 3, 15, 11, 2] [23, 127, 235, 19, 8]"
   ]
  }
 ],
 "metadata": {
  "kernelspec": {
   "display_name": "Haskell",
   "language": "haskell",
   "name": "haskell"
  },
  "language_info": {
   "codemirror_mode": "ihaskell",
   "file_extension": ".hs",
   "name": "haskell",
   "version": "7.10.2"
  }
 },
 "nbformat": 4,
 "nbformat_minor": 0
}

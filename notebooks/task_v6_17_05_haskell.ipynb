{
 "cells": [
  {
   "cell_type": "markdown",
   "metadata": {},
   "source": [
    "# Letters and Numbers"
   ]
  },
  {
   "cell_type": "code",
   "execution_count": 1,
   "metadata": {
    "collapsed": true
   },
   "outputs": [],
   "source": [
    "import Data.List\n",
    "import Data.Char\n",
    "import Data.Function\n",
    "import qualified Data.IntMap as IntMap"
   ]
  },
  {
   "cell_type": "code",
   "execution_count": 2,
   "metadata": {
    "collapsed": false
   },
   "outputs": [],
   "source": [
    "computeState :: (IntMap.IntMap (Int, Int), Int) -> (Int, Char) -> (IntMap.IntMap (Int, Int), Int)\n",
    "computeState (oldMap, oldLevel) (index, c) =\n",
    "    let\n",
    "        newLevel = (if isDigit c then succ else pred) oldLevel\n",
    "        oldRange = IntMap.findWithDefault (index, index) newLevel oldMap\n",
    "        newRange = (fst oldRange, index)\n",
    "        newMap = IntMap.insert newLevel newRange oldMap\n",
    "    in\n",
    "        (newMap, newLevel)"
   ]
  },
  {
   "cell_type": "code",
   "execution_count": 3,
   "metadata": {
    "collapsed": false
   },
   "outputs": [],
   "source": [
    "longestSubarray :: String -> String\n",
    "longestSubarray s =\n",
    "    let\n",
    "        levelMap = fst $ foldl' computeState (IntMap.singleton 0 (0, 0), 0) (zip [1..] s)\n",
    "        (left, right) = minimumBy (compare `on` uncurry (-)) (IntMap.elems levelMap)\n",
    "    in\n",
    "        take (right - left) $ drop left s"
   ]
  },
  {
   "cell_type": "code",
   "execution_count": 4,
   "metadata": {
    "collapsed": false
   },
   "outputs": [
    {
     "data": {
      "text/plain": [
       "\"A7BB88\""
      ]
     },
     "metadata": {},
     "output_type": "display_data"
    }
   ],
   "source": [
    "longestSubarray \"AAA7BB88\""
   ]
  }
 ],
 "metadata": {
  "kernelspec": {
   "display_name": "Haskell",
   "language": "haskell",
   "name": "haskell"
  },
  "language_info": {
   "codemirror_mode": "ihaskell",
   "file_extension": ".hs",
   "name": "haskell",
   "version": "7.10.2"
  }
 },
 "nbformat": 4,
 "nbformat_minor": 0
}

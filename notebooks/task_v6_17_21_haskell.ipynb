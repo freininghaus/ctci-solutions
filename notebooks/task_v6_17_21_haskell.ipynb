{
 "cells": [
  {
   "cell_type": "markdown",
   "metadata": {},
   "source": [
    "# Volume of Histogram"
   ]
  },
  {
   "cell_type": "code",
   "execution_count": 1,
   "metadata": {
    "collapsed": false
   },
   "outputs": [],
   "source": [
    "import Data.List"
   ]
  },
  {
   "cell_type": "code",
   "execution_count": 2,
   "metadata": {
    "collapsed": false
   },
   "outputs": [],
   "source": [
    "computeState :: (Num a, Ord a) => (a, a) -> a -> (a, a)\n",
    "computeState (waterLevel, currentVolume) wallHeight =\n",
    "    let waterLevel' = max waterLevel wallHeight in\n",
    "        (waterLevel', currentVolume + waterLevel' - wallHeight)"
   ]
  },
  {
   "cell_type": "code",
   "execution_count": 3,
   "metadata": {
    "collapsed": false
   },
   "outputs": [],
   "source": [
    "scanHistogram :: (Num a, Ord a) => [a] -> a\n",
    "scanHistogram xs = snd $ foldl' computeState (0, 0) xs"
   ]
  },
  {
   "cell_type": "code",
   "execution_count": 4,
   "metadata": {
    "collapsed": true
   },
   "outputs": [],
   "source": [
    "findMaximumPosition :: (Ord a) => [a] -> Int\n",
    "findMaximumPosition xs = snd $ maximum $ zip xs [1..]"
   ]
  },
  {
   "cell_type": "code",
   "execution_count": 5,
   "metadata": {
    "collapsed": false
   },
   "outputs": [],
   "source": [
    "computeWaterVolume :: (Num a, Ord a) => [a] -> a\n",
    "computeWaterVolume xs =\n",
    "    let (leftPart, rightPart) = splitAt (findMaximumPosition xs) xs\n",
    "    in sum $ map scanHistogram [leftPart, reverse rightPart]"
   ]
  },
  {
   "cell_type": "code",
   "execution_count": 6,
   "metadata": {
    "collapsed": false
   },
   "outputs": [
    {
     "data": {
      "text/plain": [
       "26"
      ]
     },
     "metadata": {},
     "output_type": "display_data"
    }
   ],
   "source": [
    "computeWaterVolume [0, 0, 4, 0, 0, 6, 0, 0, 3, 0, 5, 0, 1, 0, 0, 0]"
   ]
  }
 ],
 "metadata": {
  "kernelspec": {
   "display_name": "Haskell",
   "language": "haskell",
   "name": "haskell"
  },
  "language_info": {
   "codemirror_mode": "ihaskell",
   "file_extension": ".hs",
   "name": "haskell",
   "version": "7.10.2"
  }
 },
 "nbformat": 4,
 "nbformat_minor": 0
}
